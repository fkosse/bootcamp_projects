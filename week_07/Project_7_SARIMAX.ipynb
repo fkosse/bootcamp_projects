{
 "cells": [
  {
   "cell_type": "code",
   "execution_count": 1,
   "metadata": {},
   "outputs": [],
   "source": [
    "#Standard Imports\n",
    "from statsmodels.tsa.seasonal import seasonal_decompose\n",
    "from statsmodels.tsa.stattools import adfuller\n",
    "from statsmodels.graphics.tsaplots import plot_acf, plot_pacf\n",
    "from matplotlib.pylab import rcParams\n",
    "from pmdarima import auto_arima\n",
    "from statsmodels.tsa.arima_model import ARIMA,ARIMAResults,ARMA,ARMAResults\n",
    "import statsmodels.api as sm\n",
    "from statsmodels.tsa.statespace.sarimax import SARIMAX\n",
    "import pandas as pd\n"
   ]
  },
  {
   "cell_type": "code",
   "execution_count": 2,
   "metadata": {},
   "outputs": [],
   "source": [
    "\n",
    "weather_50y = pd.read_csv(r'./data/weather_50y.csv', parse_dates=True, index_col='date')"
   ]
  },
  {
   "cell_type": "code",
   "execution_count": 3,
   "metadata": {},
   "outputs": [
    {
     "data": {
      "text/html": [
       "<div>\n",
       "<style scoped>\n",
       "    .dataframe tbody tr th:only-of-type {\n",
       "        vertical-align: middle;\n",
       "    }\n",
       "\n",
       "    .dataframe tbody tr th {\n",
       "        vertical-align: top;\n",
       "    }\n",
       "\n",
       "    .dataframe thead th {\n",
       "        text-align: right;\n",
       "    }\n",
       "</style>\n",
       "<table border=\"1\" class=\"dataframe\">\n",
       "  <thead>\n",
       "    <tr style=\"text-align: right;\">\n",
       "      <th></th>\n",
       "      <th>temp</th>\n",
       "    </tr>\n",
       "    <tr>\n",
       "      <th>date</th>\n",
       "      <th></th>\n",
       "    </tr>\n",
       "  </thead>\n",
       "  <tbody>\n",
       "    <tr>\n",
       "      <th>1971-01-01</th>\n",
       "      <td>-95</td>\n",
       "    </tr>\n",
       "    <tr>\n",
       "      <th>1971-01-02</th>\n",
       "      <td>-96</td>\n",
       "    </tr>\n",
       "    <tr>\n",
       "      <th>1971-01-03</th>\n",
       "      <td>-144</td>\n",
       "    </tr>\n",
       "    <tr>\n",
       "      <th>1971-01-04</th>\n",
       "      <td>-117</td>\n",
       "    </tr>\n",
       "    <tr>\n",
       "      <th>1971-01-05</th>\n",
       "      <td>-83</td>\n",
       "    </tr>\n",
       "  </tbody>\n",
       "</table>\n",
       "</div>"
      ],
      "text/plain": [
       "            temp\n",
       "date            \n",
       "1971-01-01   -95\n",
       "1971-01-02   -96\n",
       "1971-01-03  -144\n",
       "1971-01-04  -117\n",
       "1971-01-05   -83"
      ]
     },
     "execution_count": 3,
     "metadata": {},
     "output_type": "execute_result"
    }
   ],
   "source": [
    "weather_50y.head()"
   ]
  },
  {
   "cell_type": "code",
   "execution_count": 5,
   "metadata": {},
   "outputs": [],
   "source": [
    "df = weather_50y.iloc[-1000:]"
   ]
  },
  {
   "cell_type": "code",
   "execution_count": 6,
   "metadata": {},
   "outputs": [
    {
     "data": {
      "text/html": [
       "<div>\n",
       "<style scoped>\n",
       "    .dataframe tbody tr th:only-of-type {\n",
       "        vertical-align: middle;\n",
       "    }\n",
       "\n",
       "    .dataframe tbody tr th {\n",
       "        vertical-align: top;\n",
       "    }\n",
       "\n",
       "    .dataframe thead th {\n",
       "        text-align: right;\n",
       "    }\n",
       "</style>\n",
       "<table border=\"1\" class=\"dataframe\">\n",
       "  <thead>\n",
       "    <tr style=\"text-align: right;\">\n",
       "      <th></th>\n",
       "      <th>temp</th>\n",
       "    </tr>\n",
       "    <tr>\n",
       "      <th>date</th>\n",
       "      <th></th>\n",
       "    </tr>\n",
       "  </thead>\n",
       "  <tbody>\n",
       "    <tr>\n",
       "      <th>2018-09-05</th>\n",
       "      <td>193</td>\n",
       "    </tr>\n",
       "    <tr>\n",
       "      <th>2018-09-06</th>\n",
       "      <td>197</td>\n",
       "    </tr>\n",
       "    <tr>\n",
       "      <th>2018-09-07</th>\n",
       "      <td>181</td>\n",
       "    </tr>\n",
       "    <tr>\n",
       "      <th>2018-09-08</th>\n",
       "      <td>156</td>\n",
       "    </tr>\n",
       "    <tr>\n",
       "      <th>2018-09-09</th>\n",
       "      <td>178</td>\n",
       "    </tr>\n",
       "  </tbody>\n",
       "</table>\n",
       "</div>"
      ],
      "text/plain": [
       "            temp\n",
       "date            \n",
       "2018-09-05   193\n",
       "2018-09-06   197\n",
       "2018-09-07   181\n",
       "2018-09-08   156\n",
       "2018-09-09   178"
      ]
     },
     "execution_count": 6,
     "metadata": {},
     "output_type": "execute_result"
    }
   ],
   "source": [
    "df.head()"
   ]
  },
  {
   "cell_type": "code",
   "execution_count": 45,
   "metadata": {},
   "outputs": [
    {
     "name": "stdout",
     "output_type": "stream",
     "text": [
      "Performing stepwise search to minimize aic\n",
      " ARIMA(2,0,1)(1,1,1)[12] intercept   : AIC=inf, Time=3.87 sec\n",
      " ARIMA(0,0,0)(0,1,0)[12] intercept   : AIC=10508.437, Time=0.09 sec\n",
      " ARIMA(1,0,0)(1,1,0)[12] intercept   : AIC=9292.127, Time=1.30 sec\n",
      " ARIMA(0,0,1)(0,1,1)[12] intercept   : AIC=9582.559, Time=1.15 sec\n",
      " ARIMA(0,0,0)(0,1,0)[12]             : AIC=10506.574, Time=0.06 sec\n",
      " ARIMA(1,0,0)(0,1,0)[12] intercept   : AIC=9594.166, Time=0.30 sec\n",
      " ARIMA(1,0,0)(2,1,0)[12] intercept   : AIC=9203.341, Time=3.88 sec\n",
      " ARIMA(1,0,0)(2,1,1)[12] intercept   : AIC=inf, Time=10.29 sec\n",
      " ARIMA(1,0,0)(1,1,1)[12] intercept   : AIC=inf, Time=4.03 sec\n",
      " ARIMA(0,0,0)(2,1,0)[12] intercept   : AIC=10305.751, Time=2.31 sec\n",
      " ARIMA(2,0,0)(2,1,0)[12] intercept   : AIC=9175.352, Time=4.57 sec\n",
      " ARIMA(2,0,0)(1,1,0)[12] intercept   : AIC=9257.191, Time=1.26 sec\n",
      " ARIMA(2,0,0)(2,1,1)[12] intercept   : AIC=inf, Time=13.49 sec\n",
      " ARIMA(2,0,0)(1,1,1)[12] intercept   : AIC=inf, Time=5.34 sec\n",
      " ARIMA(3,0,0)(2,1,0)[12] intercept   : AIC=9149.226, Time=6.83 sec\n",
      " ARIMA(3,0,0)(1,1,0)[12] intercept   : AIC=9235.350, Time=2.04 sec\n",
      " ARIMA(3,0,0)(2,1,1)[12] intercept   : AIC=inf, Time=16.48 sec\n",
      " ARIMA(3,0,0)(1,1,1)[12] intercept   : AIC=inf, Time=7.32 sec\n",
      " ARIMA(3,0,1)(2,1,0)[12] intercept   : AIC=9143.083, Time=9.85 sec\n",
      " ARIMA(3,0,1)(1,1,0)[12] intercept   : AIC=9234.527, Time=3.94 sec\n",
      " ARIMA(3,0,1)(2,1,1)[12] intercept   : AIC=inf, Time=15.92 sec\n",
      " ARIMA(3,0,1)(1,1,1)[12] intercept   : AIC=inf, Time=5.92 sec\n",
      " ARIMA(2,0,1)(2,1,0)[12] intercept   : AIC=9161.152, Time=5.74 sec\n",
      " ARIMA(3,0,2)(2,1,0)[12] intercept   : AIC=9142.511, Time=15.06 sec\n",
      " ARIMA(3,0,2)(1,1,0)[12] intercept   : AIC=9235.520, Time=4.28 sec\n",
      " ARIMA(3,0,2)(2,1,1)[12] intercept   : AIC=inf, Time=20.07 sec\n",
      " ARIMA(3,0,2)(1,1,1)[12] intercept   : AIC=inf, Time=7.54 sec\n",
      " ARIMA(2,0,2)(2,1,0)[12] intercept   : AIC=9140.677, Time=10.00 sec\n",
      " ARIMA(2,0,2)(1,1,0)[12] intercept   : AIC=9235.390, Time=3.43 sec\n",
      " ARIMA(2,0,2)(2,1,1)[12] intercept   : AIC=inf, Time=15.39 sec\n",
      " ARIMA(2,0,2)(1,1,1)[12] intercept   : AIC=inf, Time=6.78 sec\n",
      " ARIMA(1,0,2)(2,1,0)[12] intercept   : AIC=9155.945, Time=8.29 sec\n",
      " ARIMA(2,0,3)(2,1,0)[12] intercept   : AIC=9142.352, Time=13.61 sec\n",
      " ARIMA(1,0,1)(2,1,0)[12] intercept   : AIC=9162.585, Time=4.22 sec\n",
      " ARIMA(1,0,3)(2,1,0)[12] intercept   : AIC=9142.732, Time=8.61 sec\n",
      " ARIMA(3,0,3)(2,1,0)[12] intercept   : AIC=9144.071, Time=16.60 sec\n",
      " ARIMA(2,0,2)(2,1,0)[12]             : AIC=9138.691, Time=3.59 sec\n",
      " ARIMA(2,0,2)(1,1,0)[12]             : AIC=9233.415, Time=1.13 sec\n",
      " ARIMA(2,0,2)(2,1,1)[12]             : AIC=inf, Time=8.94 sec\n",
      " ARIMA(2,0,2)(1,1,1)[12]             : AIC=inf, Time=3.61 sec\n",
      " ARIMA(1,0,2)(2,1,0)[12]             : AIC=9153.970, Time=3.09 sec\n",
      " ARIMA(2,0,1)(2,1,0)[12]             : AIC=9159.183, Time=2.27 sec\n",
      " ARIMA(3,0,2)(2,1,0)[12]             : AIC=9140.527, Time=5.47 sec\n",
      " ARIMA(2,0,3)(2,1,0)[12]             : AIC=9140.368, Time=5.05 sec\n",
      " ARIMA(1,0,1)(2,1,0)[12]             : AIC=9160.619, Time=2.01 sec\n",
      " ARIMA(1,0,3)(2,1,0)[12]             : AIC=9140.749, Time=3.93 sec\n",
      " ARIMA(3,0,1)(2,1,0)[12]             : AIC=9141.100, Time=4.48 sec\n",
      " ARIMA(3,0,3)(2,1,0)[12]             : AIC=9142.086, Time=6.82 sec\n",
      "\n",
      "Best model:  ARIMA(2,0,2)(2,1,0)[12]          \n",
      "Total fit time: 310.470 seconds\n"
     ]
    },
    {
     "data": {
      "text/html": [
       "<table class=\"simpletable\">\n",
       "<caption>SARIMAX Results</caption>\n",
       "<tr>\n",
       "  <th>Dep. Variable:</th>                  <td>y</td>                <th>  No. Observations:  </th>   <td>1000</td>   \n",
       "</tr>\n",
       "<tr>\n",
       "  <th>Model:</th>           <td>SARIMAX(2, 0, 2)x(2, 1, [], 12)</td> <th>  Log Likelihood     </th> <td>-4562.345</td>\n",
       "</tr>\n",
       "<tr>\n",
       "  <th>Date:</th>                   <td>Sun, 27 Jun 2021</td>         <th>  AIC                </th> <td>9138.691</td> \n",
       "</tr>\n",
       "<tr>\n",
       "  <th>Time:</th>                       <td>16:18:52</td>             <th>  BIC                </th> <td>9172.960</td> \n",
       "</tr>\n",
       "<tr>\n",
       "  <th>Sample:</th>                         <td>0</td>                <th>  HQIC               </th> <td>9151.723</td> \n",
       "</tr>\n",
       "<tr>\n",
       "  <th></th>                             <td> - 1000</td>             <th>                     </th>     <td> </td>    \n",
       "</tr>\n",
       "<tr>\n",
       "  <th>Covariance Type:</th>               <td>opg</td>               <th>                     </th>     <td> </td>    \n",
       "</tr>\n",
       "</table>\n",
       "<table class=\"simpletable\">\n",
       "<tr>\n",
       "      <td></td>        <th>coef</th>     <th>std err</th>      <th>z</th>      <th>P>|z|</th>  <th>[0.025</th>    <th>0.975]</th>  \n",
       "</tr>\n",
       "<tr>\n",
       "  <th>ar.L1</th>    <td>    1.5356</td> <td>    0.068</td> <td>   22.735</td> <td> 0.000</td> <td>    1.403</td> <td>    1.668</td>\n",
       "</tr>\n",
       "<tr>\n",
       "  <th>ar.L2</th>    <td>   -0.5483</td> <td>    0.062</td> <td>   -8.852</td> <td> 0.000</td> <td>   -0.670</td> <td>   -0.427</td>\n",
       "</tr>\n",
       "<tr>\n",
       "  <th>ma.L1</th>    <td>   -0.5512</td> <td>    0.067</td> <td>   -8.186</td> <td> 0.000</td> <td>   -0.683</td> <td>   -0.419</td>\n",
       "</tr>\n",
       "<tr>\n",
       "  <th>ma.L2</th>    <td>   -0.3123</td> <td>    0.035</td> <td>   -8.955</td> <td> 0.000</td> <td>   -0.381</td> <td>   -0.244</td>\n",
       "</tr>\n",
       "<tr>\n",
       "  <th>ar.S.L12</th> <td>   -0.6871</td> <td>    0.032</td> <td>  -21.456</td> <td> 0.000</td> <td>   -0.750</td> <td>   -0.624</td>\n",
       "</tr>\n",
       "<tr>\n",
       "  <th>ar.S.L24</th> <td>   -0.3184</td> <td>    0.031</td> <td>  -10.185</td> <td> 0.000</td> <td>   -0.380</td> <td>   -0.257</td>\n",
       "</tr>\n",
       "<tr>\n",
       "  <th>sigma2</th>   <td>  596.0572</td> <td>   24.992</td> <td>   23.850</td> <td> 0.000</td> <td>  547.074</td> <td>  645.041</td>\n",
       "</tr>\n",
       "</table>\n",
       "<table class=\"simpletable\">\n",
       "<tr>\n",
       "  <th>Ljung-Box (L1) (Q):</th>     <td>0.00</td> <th>  Jarque-Bera (JB):  </th> <td>11.62</td>\n",
       "</tr>\n",
       "<tr>\n",
       "  <th>Prob(Q):</th>                <td>0.97</td> <th>  Prob(JB):          </th> <td>0.00</td> \n",
       "</tr>\n",
       "<tr>\n",
       "  <th>Heteroskedasticity (H):</th> <td>0.96</td> <th>  Skew:              </th> <td>0.16</td> \n",
       "</tr>\n",
       "<tr>\n",
       "  <th>Prob(H) (two-sided):</th>    <td>0.69</td> <th>  Kurtosis:          </th> <td>3.43</td> \n",
       "</tr>\n",
       "</table><br/><br/>Warnings:<br/>[1] Covariance matrix calculated using the outer product of gradients (complex-step)."
      ],
      "text/plain": [
       "<class 'statsmodels.iolib.summary.Summary'>\n",
       "\"\"\"\n",
       "                                      SARIMAX Results                                      \n",
       "===========================================================================================\n",
       "Dep. Variable:                                   y   No. Observations:                 1000\n",
       "Model:             SARIMAX(2, 0, 2)x(2, 1, [], 12)   Log Likelihood               -4562.345\n",
       "Date:                             Sun, 27 Jun 2021   AIC                           9138.691\n",
       "Time:                                     16:18:52   BIC                           9172.960\n",
       "Sample:                                          0   HQIC                          9151.723\n",
       "                                            - 1000                                         \n",
       "Covariance Type:                               opg                                         \n",
       "==============================================================================\n",
       "                 coef    std err          z      P>|z|      [0.025      0.975]\n",
       "------------------------------------------------------------------------------\n",
       "ar.L1          1.5356      0.068     22.735      0.000       1.403       1.668\n",
       "ar.L2         -0.5483      0.062     -8.852      0.000      -0.670      -0.427\n",
       "ma.L1         -0.5512      0.067     -8.186      0.000      -0.683      -0.419\n",
       "ma.L2         -0.3123      0.035     -8.955      0.000      -0.381      -0.244\n",
       "ar.S.L12      -0.6871      0.032    -21.456      0.000      -0.750      -0.624\n",
       "ar.S.L24      -0.3184      0.031    -10.185      0.000      -0.380      -0.257\n",
       "sigma2       596.0572     24.992     23.850      0.000     547.074     645.041\n",
       "===================================================================================\n",
       "Ljung-Box (L1) (Q):                   0.00   Jarque-Bera (JB):                11.62\n",
       "Prob(Q):                              0.97   Prob(JB):                         0.00\n",
       "Heteroskedasticity (H):               0.96   Skew:                             0.16\n",
       "Prob(H) (two-sided):                  0.69   Kurtosis:                         3.43\n",
       "===================================================================================\n",
       "\n",
       "Warnings:\n",
       "[1] Covariance matrix calculated using the outer product of gradients (complex-step).\n",
       "\"\"\""
      ]
     },
     "execution_count": 45,
     "metadata": {},
     "output_type": "execute_result"
    }
   ],
   "source": [
    "Sarimax_model = auto_arima(df['temp'],\n",
    "                       start_P=1,\n",
    "                       start_q=1,\n",
    "                       max_p=3,\n",
    "                       max_q=3,\n",
    "                       m=12,\n",
    "                       seasonal=True,\n",
    "                       d=None,\n",
    "                       D=1,\n",
    "                       trace=True,\n",
    "                       error_action='ignore',\n",
    "                       suppress_warnings=True,\n",
    "                       stepwise=True)\n",
    "Sarimax_model.summary()"
   ]
  },
  {
   "cell_type": "code",
   "execution_count": 7,
   "metadata": {},
   "outputs": [
    {
     "name": "stderr",
     "output_type": "stream",
     "text": [
      "/Users/FelixAir/anaconda3/lib/python3.8/site-packages/statsmodels/tsa/base/tsa_model.py:524: ValueWarning: No frequency information was provided, so inferred frequency D will be used.\n",
      "  warnings.warn('No frequency information was'\n",
      "/Users/FelixAir/anaconda3/lib/python3.8/site-packages/statsmodels/tsa/base/tsa_model.py:524: ValueWarning: No frequency information was provided, so inferred frequency D will be used.\n",
      "  warnings.warn('No frequency information was'\n"
     ]
    }
   ],
   "source": [
    "model = SARIMAX(df['temp'],order=(2, 0, 2),\n",
    "              seasonal_order=(2, 1, 0, 12),\n",
    "              enforce_stationarity=False,\n",
    "              enforce_invertibility=False)\n",
    "results = model.fit()"
   ]
  },
  {
   "cell_type": "code",
   "execution_count": 8,
   "metadata": {},
   "outputs": [
    {
     "data": {
      "text/html": [
       "<div>\n",
       "<style scoped>\n",
       "    .dataframe tbody tr th:only-of-type {\n",
       "        vertical-align: middle;\n",
       "    }\n",
       "\n",
       "    .dataframe tbody tr th {\n",
       "        vertical-align: top;\n",
       "    }\n",
       "\n",
       "    .dataframe thead th {\n",
       "        text-align: right;\n",
       "    }\n",
       "</style>\n",
       "<table border=\"1\" class=\"dataframe\">\n",
       "  <thead>\n",
       "    <tr style=\"text-align: right;\">\n",
       "      <th></th>\n",
       "      <th>temp</th>\n",
       "    </tr>\n",
       "    <tr>\n",
       "      <th>date</th>\n",
       "      <th></th>\n",
       "    </tr>\n",
       "  </thead>\n",
       "  <tbody>\n",
       "    <tr>\n",
       "      <th>2018-09-05</th>\n",
       "      <td>193</td>\n",
       "    </tr>\n",
       "    <tr>\n",
       "      <th>2018-09-06</th>\n",
       "      <td>197</td>\n",
       "    </tr>\n",
       "    <tr>\n",
       "      <th>2018-09-07</th>\n",
       "      <td>181</td>\n",
       "    </tr>\n",
       "    <tr>\n",
       "      <th>2018-09-08</th>\n",
       "      <td>156</td>\n",
       "    </tr>\n",
       "    <tr>\n",
       "      <th>2018-09-09</th>\n",
       "      <td>178</td>\n",
       "    </tr>\n",
       "  </tbody>\n",
       "</table>\n",
       "</div>"
      ],
      "text/plain": [
       "            temp\n",
       "date            \n",
       "2018-09-05   193\n",
       "2018-09-06   197\n",
       "2018-09-07   181\n",
       "2018-09-08   156\n",
       "2018-09-09   178"
      ]
     },
     "execution_count": 8,
     "metadata": {},
     "output_type": "execute_result"
    }
   ],
   "source": [
    "df.head()"
   ]
  },
  {
   "cell_type": "code",
   "execution_count": 9,
   "metadata": {},
   "outputs": [],
   "source": [
    "forecast = results.predict(start= len(df), end = len(df)+7, typ='levels').rename('data sarimax (2,0,2) forecast')"
   ]
  },
  {
   "cell_type": "code",
   "execution_count": 12,
   "metadata": {},
   "outputs": [
    {
     "data": {
      "text/plain": [
       "<AxesSubplot:xlabel='date'>"
      ]
     },
     "execution_count": 12,
     "metadata": {},
     "output_type": "execute_result"
    },
    {
     "data": {
      "image/png": "[encoded data removed]",
      "text/plain": [
       "<Figure size 864x576 with 1 Axes>"
      ]
     },
     "metadata": {
      "needs_background": "light"
     },
     "output_type": "display_data"
    }
   ],
   "source": [
    "df['temp'].iloc[-7:].plot(figsize=(12,8),legend=True)\n",
    "forecast.plot(legend=True)"
   ]
  },
  {
   "cell_type": "code",
   "execution_count": 52,
   "metadata": {},
   "outputs": [
    {
     "data": {
      "text/html": [
       "<div>\n",
       "<style scoped>\n",
       "    .dataframe tbody tr th:only-of-type {\n",
       "        vertical-align: middle;\n",
       "    }\n",
       "\n",
       "    .dataframe tbody tr th {\n",
       "        vertical-align: top;\n",
       "    }\n",
       "\n",
       "    .dataframe thead th {\n",
       "        text-align: right;\n",
       "    }\n",
       "</style>\n",
       "<table border=\"1\" class=\"dataframe\">\n",
       "  <thead>\n",
       "    <tr style=\"text-align: right;\">\n",
       "      <th></th>\n",
       "      <th>temp</th>\n",
       "    </tr>\n",
       "    <tr>\n",
       "      <th>date</th>\n",
       "      <th></th>\n",
       "    </tr>\n",
       "  </thead>\n",
       "  <tbody>\n",
       "    <tr>\n",
       "      <th>2021-05-27</th>\n",
       "      <td>115</td>\n",
       "    </tr>\n",
       "    <tr>\n",
       "      <th>2021-05-28</th>\n",
       "      <td>112</td>\n",
       "    </tr>\n",
       "    <tr>\n",
       "      <th>2021-05-29</th>\n",
       "      <td>120</td>\n",
       "    </tr>\n",
       "    <tr>\n",
       "      <th>2021-05-30</th>\n",
       "      <td>140</td>\n",
       "    </tr>\n",
       "    <tr>\n",
       "      <th>2021-05-31</th>\n",
       "      <td>141</td>\n",
       "    </tr>\n",
       "  </tbody>\n",
       "</table>\n",
       "</div>"
      ],
      "text/plain": [
       "            temp\n",
       "date            \n",
       "2021-05-27   115\n",
       "2021-05-28   112\n",
       "2021-05-29   120\n",
       "2021-05-30   140\n",
       "2021-05-31   141"
      ]
     },
     "execution_count": 52,
     "metadata": {},
     "output_type": "execute_result"
    }
   ],
   "source": [
    "https://www.wetterkontor.de/de/wetter/deutschland/rueckblick.asp?id=20"
   ]
  },
  {
   "cell_type": "code",
   "execution_count": null,
   "metadata": {},
   "outputs": [],
   "source": [
    "30.05.2021\t 14\t\n",
    "31.05.2021\t 14,1\t\n",
    "01.06.2021\t 16,8\t\n",
    "02.06.2021   25,4\t\n",
    "03.06.2021   27,2\t\n",
    "04.06.2021\t 24\t\n",
    "05.06.2021\t 27,7\t\n",
    "06.06.2021\t 28,6\t\n",
    "07.06.2021\t 26,7\t\n",
    "08.06.2021\t 26,5\t\n",
    "09.06.2021\t 26,8\t"
   ]
  }
 ],
 "metadata": {
  "kernelspec": {
   "display_name": "Python 3",
   "language": "python",
   "name": "python3"
  },
  "language_info": {
   "codemirror_mode": {
    "name": "ipython",
    "version": 3
   },
   "file_extension": ".py",
   "mimetype": "text/x-python",
   "name": "python",
   "nbconvert_exporter": "python",
   "pygments_lexer": "ipython3",
   "version": "3.8.5"
  }
 },
 "nbformat": 4,
 "nbformat_minor": 4
}
